{
 "cells": [
  {
   "cell_type": "code",
   "execution_count": 46,
   "id": "d22869ab-a33e-43a6-9d62-f52707152546",
   "metadata": {},
   "outputs": [],
   "source": [
    "import numpy as np\n",
    "from tabulate import tabulate\n",
    "from scipy.sparse.linalg import eigsh\n",
    "from scipy.sparse import coo_array, kron"
   ]
  },
  {
   "cell_type": "code",
   "execution_count": 47,
   "id": "7fcaa17f-2f82-4241-a202-2d9fde1002b2",
   "metadata": {},
   "outputs": [
    {
     "name": "stdout",
     "output_type": "stream",
     "text": [
      "2\n",
      "(2, 2)\n"
     ]
    }
   ],
   "source": [
    "i = coo_array(np.array([[1,0],[0,1]]))\n",
    "z = coo_array(np.array([[1,0],[0,-1]]))\n",
    "x = coo_array(np.array([[0,1],[1,0]]))\n",
    "print(z.size)\n",
    "print(z.shape)"
   ]
  },
  {
   "cell_type": "code",
   "execution_count": 48,
   "id": "2d7bda26-8d6c-4fed-9303-12382fc5bf40",
   "metadata": {},
   "outputs": [
    {
     "data": {
      "text/plain": [
       "array([[ 1,  0,  0,  0],\n",
       "       [ 0,  1,  0,  0],\n",
       "       [ 0,  0, -1,  0],\n",
       "       [ 0,  0,  0, -1]])"
      ]
     },
     "execution_count": 48,
     "metadata": {},
     "output_type": "execute_result"
    }
   ],
   "source": [
    "kron(z, i).toarray()"
   ]
  },
  {
   "cell_type": "code",
   "execution_count": 43,
   "id": "8bc6227f-c2b5-401b-a1e0-f531545a9b09",
   "metadata": {},
   "outputs": [
    {
     "ename": "IndexError",
     "evalue": "tuple index out of range",
     "output_type": "error",
     "traceback": [
      "\u001b[0;31m---------------------------------------------------------------------------\u001b[0m",
      "\u001b[0;31mIndexError\u001b[0m                                Traceback (most recent call last)",
      "Input \u001b[0;32mIn [43]\u001b[0m, in \u001b[0;36m<cell line: 10>\u001b[0;34m()\u001b[0m\n\u001b[1;32m      8\u001b[0m             result \u001b[38;5;241m=\u001b[39m np\u001b[38;5;241m.\u001b[39mconcatenate((result, crow), axis\u001b[38;5;241m=\u001b[39m\u001b[38;5;241m0\u001b[39m)\n\u001b[1;32m      9\u001b[0m     \u001b[38;5;28;01mreturn\u001b[39;00m result\n\u001b[0;32m---> 10\u001b[0m \u001b[38;5;28mprint\u001b[39m(tabulate(\u001b[43mtensor\u001b[49m\u001b[43m(\u001b[49m\u001b[43mz\u001b[49m\u001b[43m,\u001b[49m\u001b[43m \u001b[49m\u001b[43mi\u001b[49m\u001b[43m)\u001b[49m, tablefmt\u001b[38;5;241m=\u001b[39m\u001b[38;5;124m\"\u001b[39m\u001b[38;5;124mfancy_grid\u001b[39m\u001b[38;5;124m\"\u001b[39m))\n\u001b[1;32m     11\u001b[0m \u001b[38;5;28mprint\u001b[39m(tabulate(np\u001b[38;5;241m.\u001b[39mkron(z, i), tablefmt\u001b[38;5;241m=\u001b[39m\u001b[38;5;124m\"\u001b[39m\u001b[38;5;124mfancy_grid\u001b[39m\u001b[38;5;124m\"\u001b[39m))\n",
      "Input \u001b[0;32mIn [43]\u001b[0m, in \u001b[0;36mtensor\u001b[0;34m(a, b)\u001b[0m\n\u001b[1;32m      1\u001b[0m \u001b[38;5;28;01mdef\u001b[39;00m \u001b[38;5;21mtensor\u001b[39m(a, b):\n\u001b[1;32m      2\u001b[0m     block_result \u001b[38;5;241m=\u001b[39m np\u001b[38;5;241m.\u001b[39mtensordot(a, b, \u001b[38;5;241m0\u001b[39m)\n\u001b[0;32m----> 3\u001b[0m     \u001b[38;5;28;01mfor\u001b[39;00m row \u001b[38;5;129;01min\u001b[39;00m \u001b[38;5;28mrange\u001b[39m(\u001b[43mblock_result\u001b[49m\u001b[38;5;241;43m.\u001b[39;49m\u001b[43mshape\u001b[49m\u001b[43m[\u001b[49m\u001b[38;5;241;43m0\u001b[39;49m\u001b[43m]\u001b[49m):\n\u001b[1;32m      4\u001b[0m         crow \u001b[38;5;241m=\u001b[39m np\u001b[38;5;241m.\u001b[39mconcatenate(block_result[row], axis\u001b[38;5;241m=\u001b[39m\u001b[38;5;241m1\u001b[39m)\n\u001b[1;32m      5\u001b[0m         \u001b[38;5;28;01mif\u001b[39;00m row \u001b[38;5;241m==\u001b[39m \u001b[38;5;241m0\u001b[39m:\n",
      "\u001b[0;31mIndexError\u001b[0m: tuple index out of range"
     ]
    }
   ],
   "source": [
    "def tensor(a, b):\n",
    "    block_result = np.tensordot(a, b, 0)\n",
    "    for row in range(block_result.shape[0]):\n",
    "        crow = np.concatenate(block_result[row], axis=1)\n",
    "        if row == 0:\n",
    "            result = crow\n",
    "        else:\n",
    "            result = np.concatenate((result, crow), axis=0)\n",
    "    return result\n",
    "print(tabulate(tensor(z, i), tablefmt=\"fancy_grid\"))\n",
    "print(tabulate(np.kron(z, i), tablefmt=\"fancy_grid\"))"
   ]
  },
  {
   "cell_type": "code",
   "execution_count": 89,
   "id": "b9697b1d-ebee-40e3-aed5-8dc2b492b467",
   "metadata": {},
   "outputs": [
    {
     "ename": "TypeError",
     "evalue": "tensor() takes 2 positional arguments but 3 were given",
     "output_type": "error",
     "traceback": [
      "\u001b[0;31m---------------------------------------------------------------------------\u001b[0m",
      "\u001b[0;31mTypeError\u001b[0m                                 Traceback (most recent call last)",
      "Input \u001b[0;32mIn [89]\u001b[0m, in \u001b[0;36m<cell line: 6>\u001b[0;34m()\u001b[0m\n\u001b[1;32m      4\u001b[0m     \u001b[38;5;28mprint\u001b[39m(tabulate(new_matrix, tablefmt\u001b[38;5;241m=\u001b[39m\u001b[38;5;124m\"\u001b[39m\u001b[38;5;124mfancy_grid\u001b[39m\u001b[38;5;124m\"\u001b[39m))\n\u001b[1;32m      5\u001b[0m     \u001b[38;5;28mprint\u001b[39m(new_matrix\u001b[38;5;241m.\u001b[39mshape[\u001b[38;5;241m0\u001b[39m])\n\u001b[0;32m----> 6\u001b[0m \u001b[43mtensorIright\u001b[49m\u001b[43m(\u001b[49m\u001b[43mz\u001b[49m\u001b[43m)\u001b[49m\n",
      "Input \u001b[0;32mIn [89]\u001b[0m, in \u001b[0;36mtensorIright\u001b[0;34m(matrix)\u001b[0m\n\u001b[1;32m      1\u001b[0m \u001b[38;5;28;01mdef\u001b[39;00m \u001b[38;5;21mtensorIright\u001b[39m(matrix):\n\u001b[1;32m      2\u001b[0m     i \u001b[38;5;241m=\u001b[39m np\u001b[38;5;241m.\u001b[39marray([[\u001b[38;5;241m1\u001b[39m,\u001b[38;5;241m0\u001b[39m],[\u001b[38;5;241m0\u001b[39m,\u001b[38;5;241m1\u001b[39m]])\n\u001b[0;32m----> 3\u001b[0m     new_matrix \u001b[38;5;241m=\u001b[39m \u001b[43mtensor\u001b[49m\u001b[43m(\u001b[49m\u001b[43mmatrix\u001b[49m\u001b[43m,\u001b[49m\u001b[43m \u001b[49m\u001b[43mi\u001b[49m\u001b[43m,\u001b[49m\u001b[43m \u001b[49m\u001b[38;5;241;43m0\u001b[39;49m\u001b[43m)\u001b[49m\n\u001b[1;32m      4\u001b[0m     \u001b[38;5;28mprint\u001b[39m(tabulate(new_matrix, tablefmt\u001b[38;5;241m=\u001b[39m\u001b[38;5;124m\"\u001b[39m\u001b[38;5;124mfancy_grid\u001b[39m\u001b[38;5;124m\"\u001b[39m))\n\u001b[1;32m      5\u001b[0m     \u001b[38;5;28mprint\u001b[39m(new_matrix\u001b[38;5;241m.\u001b[39mshape[\u001b[38;5;241m0\u001b[39m])\n",
      "\u001b[0;31mTypeError\u001b[0m: tensor() takes 2 positional arguments but 3 were given"
     ]
    }
   ],
   "source": [
    "def tensorIright(matrix):\n",
    "    i = np.array([[1,0],[0,1]])\n",
    "    new_matrix = tensor(matrix, i, 0)\n",
    "    print(tabulate(new_matrix, tablefmt=\"fancy_grid\"))\n",
    "    print(new_matrix.shape[0])\n",
    "tensorIright(z)"
   ]
  },
  {
   "cell_type": "code",
   "execution_count": 21,
   "id": "66dc9e11-4e4d-4a90-b00e-f6d4deaa4021",
   "metadata": {},
   "outputs": [],
   "source": [
    "def Hmatrix(num_qubits):\n",
    "    h_zz = -1\n",
    "    h_z = 1\n",
    "    h_x = 1\n",
    "    i = np.array([[1,0],[0,1]])\n",
    "    z = np.array([[1,0],[0,-1]])\n",
    "    x = np.array([[0,1],[1,0]])\n",
    "    H = np.zeros((2**num_qubits, 2**num_qubits))\n",
    "    #zz\n",
    "    zz_term = tensor(z, z)\n",
    "    num_left = 0\n",
    "    num_right = num_qubits - 2\n",
    "    for sum_index in range(num_qubits - 1):\n",
    "        for j in range(num_right):\n",
    "            zz_term = tensor(zz_term, i)\n",
    "        for j in range(num_left):\n",
    "            zz_term = tensor(i, zz_term)\n",
    "        H += h_zz * zz_term\n",
    "        num_left += 1\n",
    "        num_right -= 1\n",
    "        zz_term = tensor(z, z)\n",
    "    #z\n",
    "    z_term = z.copy()\n",
    "    num_left = 0\n",
    "    num_right = num_qubits - 1\n",
    "    for sum_index in range(num_qubits):\n",
    "        for j in range(num_right):\n",
    "            z_term = tensor(z_term, i)\n",
    "        for j in range(num_left):\n",
    "            z_term = tensor(i, z_term)\n",
    "        H += h_z * z_term\n",
    "        num_left += 1\n",
    "        num_right -= 1\n",
    "        z_term = z.copy()\n",
    "    #x\n",
    "    x_term = x.copy()\n",
    "    num_left = 0\n",
    "    num_right = num_qubits - 1\n",
    "    for sum_index in range(num_qubits):\n",
    "        for j in range(num_right):\n",
    "            x_term = tensor(x_term, i)\n",
    "        for j in range(num_left):\n",
    "            x_term = tensor(i, x_term)\n",
    "        H += h_x * x_term\n",
    "        num_left += 1\n",
    "        num_right -= 1\n",
    "        x_term = x.copy()\n",
    "    return H"
   ]
  },
  {
   "cell_type": "code",
   "execution_count": 26,
   "id": "1207ea30-9731-4c9d-a646-71807065214d",
   "metadata": {},
   "outputs": [
    {
     "name": "stdout",
     "output_type": "stream",
     "text": [
      "[[ 1  0]\n",
      " [ 0 -1]]\n"
     ]
    },
    {
     "data": {
      "text/plain": [
       "array([[ 1.,  1.,  1.,  0.,  1.,  0.,  0.,  0.],\n",
       "       [ 1.,  1.,  0.,  1.,  0.,  1.,  0.,  0.],\n",
       "       [ 1.,  0.,  3.,  1.,  0.,  0.,  1.,  0.],\n",
       "       [ 0.,  1.,  1., -1.,  0.,  0.,  0.,  1.],\n",
       "       [ 1.,  0.,  0.,  0.,  1.,  1.,  1.,  0.],\n",
       "       [ 0.,  1.,  0.,  0.,  1.,  1.,  0.,  1.],\n",
       "       [ 0.,  0.,  1.,  0.,  1.,  0., -1.,  1.],\n",
       "       [ 0.,  0.,  0.,  1.,  0.,  1.,  1., -5.]])"
      ]
     },
     "execution_count": 29,
     "metadata": {},
     "output_type": "execute_result"
    }
   ],
   "source": []
  },
  {
   "cell_type": "code",
   "execution_count": 34,
   "id": "5aaf5a69-5bce-4af9-9d0a-f24172520204",
   "metadata": {},
   "outputs": [
    {
     "name": "stdout",
     "output_type": "stream",
     "text": [
      "[[ 1  0]\n",
      " [ 0 -1]]\n",
      "[-5.65387565]\n"
     ]
    }
   ],
   "source": [
    "matrix = Hmatrix(3)\n",
    "min_eigenvalue, min_eigenvectors = eigsh(matrix, k=1, which='SA')\n",
    "print(min_eigenvalue)"
   ]
  },
  {
   "cell_type": "code",
   "execution_count": null,
   "id": "00bec08e-85cc-4992-be9f-4c8b56f5e78e",
   "metadata": {},
   "outputs": [],
   "source": []
  }
 ],
 "metadata": {
  "kernelspec": {
   "display_name": "Python [conda env:qiskit_env] *",
   "language": "python",
   "name": "conda-env-qiskit_env-py"
  },
  "language_info": {
   "codemirror_mode": {
    "name": "ipython",
    "version": 3
   },
   "file_extension": ".py",
   "mimetype": "text/x-python",
   "name": "python",
   "nbconvert_exporter": "python",
   "pygments_lexer": "ipython3",
   "version": "3.10.4"
  }
 },
 "nbformat": 4,
 "nbformat_minor": 5
}
