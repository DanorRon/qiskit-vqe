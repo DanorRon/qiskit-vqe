{
 "cells": [
  {
   "cell_type": "code",
   "execution_count": 9,
   "id": "8b4ed2c5-2b69-4565-b322-258cb7d7add7",
   "metadata": {},
   "outputs": [],
   "source": [
    "import qiskit\n",
    "from qiskit import IBMQ, Aer, BasicAer\n",
    "from qiskit.circuit.library import EfficientSU2\n",
    "from qiskit.algorithms import NumPyEigensolver\n",
    "from qiskit.algorithms.optimizers import SLSQP"
   ]
  },
  {
   "cell_type": "code",
   "execution_count": 2,
   "id": "9b1528c5-d4a3-42ac-9a4c-953b5763db39",
   "metadata": {},
   "outputs": [],
   "source": [
    "backend = BasicAer.get_backend(\"statevector_simulator\")"
   ]
  },
  {
   "cell_type": "code",
   "execution_count": 6,
   "id": "b999a25e-9905-425a-8600-387276722995",
   "metadata": {},
   "outputs": [],
   "source": [
    "def get_qubit_op(length):\n",
    "    J = 1 \n",
    "    g = 1"
   ]
  },
  {
   "cell_type": "code",
   "execution_count": 10,
   "id": "de33d072-88d5-4ca2-a36b-6ad9a79e39b5",
   "metadata": {},
   "outputs": [
    {
     "ename": "SyntaxError",
     "evalue": "invalid syntax (2266646223.py, line 4)",
     "output_type": "error",
     "traceback": [
      "\u001b[0;36m  Input \u001b[0;32mIn [10]\u001b[0;36m\u001b[0m\n\u001b[0;31m    init_state =\u001b[0m\n\u001b[0m                ^\u001b[0m\n\u001b[0;31mSyntaxError\u001b[0m\u001b[0;31m:\u001b[0m invalid syntax\n"
     ]
    }
   ],
   "source": [
    "length = 5\n",
    "qubitOp = get_qubit_op(length)\n",
    "optimizer = SLSQP(maxiter=5)\n",
    "init_state =\n",
    "var_form = EfficientSU2(num_qubits=5, entanglement=linear)"
   ]
  },
  {
   "cell_type": "code",
   "execution_count": 7,
   "id": "73945fd6-506c-4896-ae35-4774ab33071c",
   "metadata": {},
   "outputs": [
    {
     "ename": "TypeError",
     "evalue": "'<' not supported between instances of 'NoneType' and 'int'",
     "output_type": "error",
     "traceback": [
      "\u001b[0;31m---------------------------------------------------------------------------\u001b[0m",
      "\u001b[0;31mTypeError\u001b[0m                                 Traceback (most recent call last)",
      "Input \u001b[0;32mIn [7]\u001b[0m, in \u001b[0;36m<cell line: 3>\u001b[0;34m()\u001b[0m\n\u001b[1;32m      1\u001b[0m length \u001b[38;5;241m=\u001b[39m \u001b[38;5;241m5\u001b[39m\n\u001b[1;32m      2\u001b[0m qubitOp \u001b[38;5;241m=\u001b[39m get_qubit_op(length)\n\u001b[0;32m----> 3\u001b[0m true_result \u001b[38;5;241m=\u001b[39m \u001b[43mNumPyEigensolver\u001b[49m\u001b[43m(\u001b[49m\u001b[43mqubitOp\u001b[49m\u001b[43m)\u001b[49m\u001b[38;5;241m.\u001b[39mrun()\n",
      "File \u001b[0;32m~/opt/anaconda3/envs/qiskit_env/lib/python3.10/site-packages/qiskit/algorithms/eigen_solvers/numpy_eigen_solver.py:63\u001b[0m, in \u001b[0;36mNumPyEigensolver.__init__\u001b[0;34m(self, k, filter_criterion)\u001b[0m\n\u001b[1;32m     46\u001b[0m \u001b[38;5;28;01mdef\u001b[39;00m \u001b[38;5;21m__init__\u001b[39m(\n\u001b[1;32m     47\u001b[0m     \u001b[38;5;28mself\u001b[39m,\n\u001b[1;32m     48\u001b[0m     k: \u001b[38;5;28mint\u001b[39m \u001b[38;5;241m=\u001b[39m \u001b[38;5;241m1\u001b[39m,\n\u001b[0;32m   (...)\u001b[0m\n\u001b[1;32m     51\u001b[0m     ] \u001b[38;5;241m=\u001b[39m \u001b[38;5;28;01mNone\u001b[39;00m,\n\u001b[1;32m     52\u001b[0m ) \u001b[38;5;241m-\u001b[39m\u001b[38;5;241m>\u001b[39m \u001b[38;5;28;01mNone\u001b[39;00m:\n\u001b[1;32m     53\u001b[0m     \u001b[38;5;124;03m\"\"\"\u001b[39;00m\n\u001b[1;32m     54\u001b[0m \u001b[38;5;124;03m    Args:\u001b[39;00m\n\u001b[1;32m     55\u001b[0m \u001b[38;5;124;03m        k: How many eigenvalues are to be computed, has a min. value of 1.\u001b[39;00m\n\u001b[0;32m   (...)\u001b[0m\n\u001b[1;32m     61\u001b[0m \u001b[38;5;124;03m            fewer elements and can even be empty.\u001b[39;00m\n\u001b[1;32m     62\u001b[0m \u001b[38;5;124;03m    \"\"\"\u001b[39;00m\n\u001b[0;32m---> 63\u001b[0m     \u001b[43mvalidate_min\u001b[49m\u001b[43m(\u001b[49m\u001b[38;5;124;43m\"\u001b[39;49m\u001b[38;5;124;43mk\u001b[39;49m\u001b[38;5;124;43m\"\u001b[39;49m\u001b[43m,\u001b[49m\u001b[43m \u001b[49m\u001b[43mk\u001b[49m\u001b[43m,\u001b[49m\u001b[43m \u001b[49m\u001b[38;5;241;43m1\u001b[39;49m\u001b[43m)\u001b[49m\n\u001b[1;32m     64\u001b[0m     \u001b[38;5;28msuper\u001b[39m()\u001b[38;5;241m.\u001b[39m\u001b[38;5;21m__init__\u001b[39m()\n\u001b[1;32m     66\u001b[0m     \u001b[38;5;28mself\u001b[39m\u001b[38;5;241m.\u001b[39m_in_k \u001b[38;5;241m=\u001b[39m k\n",
      "File \u001b[0;32m~/opt/anaconda3/envs/qiskit_env/lib/python3.10/site-packages/qiskit/utils/validation.py:42\u001b[0m, in \u001b[0;36mvalidate_min\u001b[0;34m(name, value, minimum)\u001b[0m\n\u001b[1;32m     33\u001b[0m \u001b[38;5;28;01mdef\u001b[39;00m \u001b[38;5;21mvalidate_min\u001b[39m(name: \u001b[38;5;28mstr\u001b[39m, value: \u001b[38;5;28mfloat\u001b[39m, minimum: \u001b[38;5;28mfloat\u001b[39m) \u001b[38;5;241m-\u001b[39m\u001b[38;5;241m>\u001b[39m \u001b[38;5;28;01mNone\u001b[39;00m:\n\u001b[1;32m     34\u001b[0m     \u001b[38;5;124;03m\"\"\"\u001b[39;00m\n\u001b[1;32m     35\u001b[0m \u001b[38;5;124;03m    Args:\u001b[39;00m\n\u001b[1;32m     36\u001b[0m \u001b[38;5;124;03m        name: value name.\u001b[39;00m\n\u001b[0;32m   (...)\u001b[0m\n\u001b[1;32m     40\u001b[0m \u001b[38;5;124;03m        ValueError: invalid value\u001b[39;00m\n\u001b[1;32m     41\u001b[0m \u001b[38;5;124;03m    \"\"\"\u001b[39;00m\n\u001b[0;32m---> 42\u001b[0m     \u001b[38;5;28;01mif\u001b[39;00m \u001b[43mvalue\u001b[49m\u001b[43m \u001b[49m\u001b[38;5;241;43m<\u001b[39;49m\u001b[43m \u001b[49m\u001b[43mminimum\u001b[49m:\n\u001b[1;32m     43\u001b[0m         \u001b[38;5;28;01mraise\u001b[39;00m \u001b[38;5;167;01mValueError\u001b[39;00m(\u001b[38;5;124mf\u001b[39m\u001b[38;5;124m\"\u001b[39m\u001b[38;5;132;01m{\u001b[39;00mname\u001b[38;5;132;01m}\u001b[39;00m\u001b[38;5;124m must have value >= \u001b[39m\u001b[38;5;132;01m{\u001b[39;00mminimum\u001b[38;5;132;01m}\u001b[39;00m\u001b[38;5;124m, was \u001b[39m\u001b[38;5;132;01m{\u001b[39;00mvalue\u001b[38;5;132;01m}\u001b[39;00m\u001b[38;5;124m\"\u001b[39m)\n",
      "\u001b[0;31mTypeError\u001b[0m: '<' not supported between instances of 'NoneType' and 'int'"
     ]
    }
   ],
   "source": [
    "length = 5\n",
    "qubitOp = get_qubit_op(length)\n",
    "true_result = NumPyEigensolver(qubitOp).run()"
   ]
  }
 ],
 "metadata": {
  "kernelspec": {
   "display_name": "Python [conda env:qiskit_env] *",
   "language": "python",
   "name": "conda-env-qiskit_env-py"
  },
  "language_info": {
   "codemirror_mode": {
    "name": "ipython",
    "version": 3
   },
   "file_extension": ".py",
   "mimetype": "text/x-python",
   "name": "python",
   "nbconvert_exporter": "python",
   "pygments_lexer": "ipython3",
   "version": "3.10.4"
  }
 },
 "nbformat": 4,
 "nbformat_minor": 5
}
