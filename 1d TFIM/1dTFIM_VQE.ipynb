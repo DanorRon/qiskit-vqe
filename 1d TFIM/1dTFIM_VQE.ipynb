{
 "cells": [
  {
   "cell_type": "code",
   "execution_count": 2,
   "id": "8b4ed2c5-2b69-4565-b322-258cb7d7add7",
   "metadata": {},
   "outputs": [],
   "source": [
    "import numpy as np\n",
    "\n",
    "from qiskit import QuantumCircuit, ClassicalRegister, QuantumRegister\n",
    "from qiskit import IBMQ, Aer, BasicAer\n",
    "from qiskit.compiler import transpile\n",
    "from qiskit.quantum_info.operators import Operator, Pauli\n",
    "from qiskit.quantum_info import process_fidelity\n",
    "from qiskit.providers.aer import QasmSimulator\n",
    "from qiskit.algorithms.optimizers import SPSA"
   ]
  },
  {
   "cell_type": "code",
   "execution_count": 7,
   "id": "9b1528c5-d4a3-42ac-9a4c-953b5763db39",
   "metadata": {},
   "outputs": [],
   "source": [
    "backend = BasicAer.get_backend(\"statevector_simulator\")"
   ]
  },
  {
   "cell_type": "code",
   "execution_count": null,
   "id": "cdae6c6e-099f-4614-b308-6d0d370f704b",
   "metadata": {},
   "outputs": [],
   "source": [
    "def initial_state(): #for now should return 0 state\n",
    "    return 0"
   ]
  },
  {
   "cell_type": "code",
   "execution_count": 7,
   "id": "6abb64eb-ab8d-4c27-a3e0-bd784c829e53",
   "metadata": {},
   "outputs": [
    {
     "name": "stdout",
     "output_type": "stream",
     "text": [
      "     ┌──────────────────────────┐ ░                ░                ░ ┌───┐»\n",
      "q_0: ┤0                         ├─░───■────────────░────────────────░─┤ X ├»\n",
      "     │                          │ ░ ┌─┴─┐┌───────┐ ░                ░ └─┬─┘»\n",
      "q_1: ┤1                         ├─░─┤ X ├┤ RY(0) ├─░───■────────────░───■──»\n",
      "     │                          │ ░ └───┘└───────┘ ░ ┌─┴─┐┌───────┐ ░ ┌───┐»\n",
      "q_2: ┤2                         ├─░───■────────────░─┤ X ├┤ RY(0) ├─░─┤ X ├»\n",
      "     │  Initialize(0,0,0,0,0,0) │ ░ ┌─┴─┐┌───────┐ ░ └───┘└───────┘ ░ └─┬─┘»\n",
      "q_3: ┤3                         ├─░─┤ X ├┤ RY(0) ├─░───■────────────░───■──»\n",
      "     │                          │ ░ └───┘└───────┘ ░ ┌─┴─┐┌───────┐ ░ ┌───┐»\n",
      "q_4: ┤4                         ├─░───■────────────░─┤ X ├┤ RY(0) ├─░─┤ X ├»\n",
      "     │                          │ ░ ┌─┴─┐┌───────┐ ░ └───┘└───────┘ ░ └─┬─┘»\n",
      "q_5: ┤5                         ├─░─┤ X ├┤ RY(0) ├─░────────────────░───■──»\n",
      "     └──────────────────────────┘ ░ └───┘└───────┘ ░                ░      »\n",
      "c: 6/══════════════════════════════════════════════════════════════════════»\n",
      "                                                                           »\n",
      "«     ┌───────┐ ░                ░ \n",
      "«q_0: ┤ RY(0) ├─░────────────────░─\n",
      "«     └───────┘ ░ ┌───┐┌───────┐ ░ \n",
      "«q_1: ──────────░─┤ X ├┤ RY(0) ├─░─\n",
      "«     ┌───────┐ ░ └─┬─┘└───────┘ ░ \n",
      "«q_2: ┤ RY(0) ├─░───■────────────░─\n",
      "«     └───────┘ ░ ┌───┐┌───────┐ ░ \n",
      "«q_3: ──────────░─┤ X ├┤ RY(0) ├─░─\n",
      "«     ┌───────┐ ░ └─┬─┘└───────┘ ░ \n",
      "«q_4: ┤ RY(0) ├─░───■────────────░─\n",
      "«     └───────┘ ░                ░ \n",
      "«q_5: ──────────░────────────────░─\n",
      "«               ░                ░ \n",
      "«c: 6/═════════════════════════════\n",
      "«                                  \n"
     ]
    },
    {
     "data": {
      "text/plain": [
       "<qiskit.circuit.quantumcircuit.QuantumCircuit at 0x7f8aa2f75330>"
      ]
     },
     "execution_count": 7,
     "metadata": {},
     "output_type": "execute_result"
    }
   ],
   "source": [
    "def ansatz(num_qubits, layers, thetas):\n",
    "    circuit = QuantumCircuit(num_qubits, num_qubits)\n",
    "    initials = ''.join(['0' for i in range(num_qubits)])\n",
    "    circuit.initialize(initials, circuit.qubits)\n",
    "    circuit.barrier()\n",
    "    current_theta = 0\n",
    "    for l in range(layers):\n",
    "        for qubit in range(0, num_qubits-1, 2):\n",
    "            circuit.cx(qubit, qubit+1)\n",
    "            circuit.ry(thetas[current_theta], qubit+1, 'RY')\n",
    "            current_theta += 1\n",
    "        circuit.barrier()\n",
    "        for qubit in range(1, num_qubits-1, 2):\n",
    "            circuit.cx(qubit, qubit+1)\n",
    "            circuit.ry(thetas[current_theta], qubit+1, 'RY')\n",
    "            current_theta += 1\n",
    "        circuit.barrier()\n",
    "        for qubit in range(0, num_qubits-1, 2):\n",
    "            circuit.cx(qubit+1, qubit)\n",
    "            circuit.ry(thetas[current_theta], qubit, 'RY')\n",
    "            current_theta += 1\n",
    "        circuit.barrier()\n",
    "        for qubit in range(1, num_qubits-1, 2):\n",
    "            circuit.cx(qubit+1, qubit)\n",
    "            circuit.ry(thetas[current_theta], qubit, 'RY')\n",
    "            current_theta += 1\n",
    "        circuit.barrier()\n",
    "    print(circuit.draw(output='text'))\n",
    "    return circuit\n",
    "num_qubits = 6\n",
    "layers = 1\n",
    "thetas = np.zeros(layers * 2 * (num_qubits-1))\n",
    "ansatz(num_qubits, layers, thetas)"
   ]
  }
 ],
 "metadata": {
  "kernelspec": {
   "display_name": "Python [conda env:qiskit_env] *",
   "language": "python",
   "name": "conda-env-qiskit_env-py"
  },
  "language_info": {
   "codemirror_mode": {
    "name": "ipython",
    "version": 3
   },
   "file_extension": ".py",
   "mimetype": "text/x-python",
   "name": "python",
   "nbconvert_exporter": "python",
   "pygments_lexer": "ipython3",
   "version": "3.10.4"
  }
 },
 "nbformat": 4,
 "nbformat_minor": 5
}
