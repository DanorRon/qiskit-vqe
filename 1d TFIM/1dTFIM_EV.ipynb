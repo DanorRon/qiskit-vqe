{
 "cells": [
  {
   "cell_type": "code",
   "execution_count": 32,
   "id": "cb534186-be07-4f26-a5da-088bbe695165",
   "metadata": {},
   "outputs": [],
   "source": [
    "import numpy as np\n",
    "\n",
    "from qiskit import QuantumCircuit, ClassicalRegister, QuantumRegister\n",
    "from qiskit import BasicAer\n",
    "from qiskit.compiler import transpile\n",
    "from qiskit.quantum_info.operators import Operator, Pauli\n",
    "from qiskit.quantum_info import process_fidelity\n",
    "from qiskit.providers.aer import QasmSimulator"
   ]
  },
  {
   "cell_type": "code",
   "execution_count": 41,
   "id": "185e8700-aeb4-48c7-bfc3-3c0672c2df12",
   "metadata": {},
   "outputs": [],
   "source": [
    "backend = BasicAer.get_backend(\"qasm_simulator\")"
   ]
  },
  {
   "cell_type": "code",
   "execution_count": 66,
   "id": "89eba1ee-7c93-4f04-9591-7eb2c77cb5d6",
   "metadata": {},
   "outputs": [],
   "source": [
    "h_zz = -1\n",
    "h_z = 1\n",
    "h_x = 1"
   ]
  },
  {
   "cell_type": "code",
   "execution_count": 99,
   "id": "ff38a06b-b1a5-4b15-9cc8-cbb094f46b63",
   "metadata": {},
   "outputs": [],
   "source": [
    "def state():\n",
    "    circuit = QuantumCircuit(3, 3)\n",
    "    circuit.h(0)\n",
    "    circuit.cx(0, 1)\n",
    "    circuit.z(1)\n",
    "    circuit.x(2)\n",
    "    circuit.cx(2, 0)\n",
    "    \n",
    "    return circuit"
   ]
  },
  {
   "cell_type": "code",
   "execution_count": 88,
   "id": "b989fff3-2bcf-4bff-9f87-2c5880674c26",
   "metadata": {},
   "outputs": [],
   "source": [
    "def evaluate(circuit, shots):\n",
    "    circuit.measure_all() #different from circuit.measure([0,1], [0,1])?\n",
    "    compiled = transpile(circuit, backend)\n",
    "    job = backend.run(compiled, shots=shots)\n",
    "    result = job.result()\n",
    "    counts = result.get_counts(compiled)\n",
    "    \n",
    "    return counts"
   ]
  },
  {
   "cell_type": "code",
   "execution_count": 57,
   "id": "2b2f681d-86dc-4692-b5e4-bf1453b7280f",
   "metadata": {},
   "outputs": [
    {
     "data": {
      "text/plain": [
       "{'00': 248, '01': 245, '10': 250, '11': 257}"
      ]
     },
     "execution_count": 57,
     "metadata": {},
     "output_type": "execute_result"
    }
   ],
   "source": [
    "circuit = state()\n",
    "evaluate(circuit, 1000)"
   ]
  },
  {
   "cell_type": "code",
   "execution_count": 60,
   "id": "82f56295-f49b-4c0f-bb2a-e746f253e595",
   "metadata": {},
   "outputs": [],
   "source": [
    "def bit_parity(substr):\n",
    "    parity = 1\n",
    "    for char in substr:\n",
    "        if char == '1':\n",
    "            parity *= -1\n",
    "    return parity"
   ]
  },
  {
   "cell_type": "code",
   "execution_count": 100,
   "id": "f4450f79-6281-472d-87c8-465c9eae15f6",
   "metadata": {},
   "outputs": [],
   "source": [
    "def get_EV(circuit, shots):\n",
    "    print(circuit.draw())\n",
    "    \n",
    "    counts = evaluate(circuit, shots)\n",
    "    op_z = 0\n",
    "    op_zz = 0\n",
    "    for bitstr in counts:\n",
    "        p = counts[bitstr]/shots #probability of getting bitstr\n",
    "        for index in range(len(bitstr)-1, 0, -1): #single values\n",
    "            substr = bitstr[index] #one number, 0 or 1\n",
    "            parity = bit_parity(substr)\n",
    "            op_z += p * parity\n",
    "        for index in range(len(bitstr)-1, 1, -1): #goes to 1 to avoid going under array index 0\n",
    "            substr = bitstr[index-1:index+1] #string of two numbers\n",
    "            parity = bit_parity(substr)\n",
    "            op_zz += p * parity\n",
    "    \n",
    "    for i in range(circuit.num_qubits):\n",
    "        circuit.h(i)\n",
    "    counts = evaluate(circuit, shots)\n",
    "    op_x = 0\n",
    "    for bitstr in counts:\n",
    "        p = counts[bitstr]/shots\n",
    "        for index in range(len(bitstr)-1, 0, -1):\n",
    "            substr = bitstr[index]\n",
    "            parity = bit_parity(substr)\n",
    "            op_x += p * parity\n",
    "    \n",
    "    print(op_zz)\n",
    "    print(op_z)\n",
    "    print(op_x)\n",
    "    \n",
    "    expected_value = h_zz * op_zz + h_z * op_z + h_x * op_x\n",
    "    return expected_value"
   ]
  },
  {
   "cell_type": "code",
   "execution_count": 104,
   "id": "b7dba0f4-2af4-4914-a15f-e2ae0198f696",
   "metadata": {},
   "outputs": [
    {
     "name": "stdout",
     "output_type": "stream",
     "text": [
      "     ┌───┐          ┌───┐\n",
      "q_0: ┤ H ├──■───────┤ X ├\n",
      "     └───┘┌─┴─┐┌───┐└─┬─┘\n",
      "q_1: ─────┤ X ├┤ Z ├──┼──\n",
      "     ┌───┐└───┘└───┘  │  \n",
      "q_2: ┤ X ├────────────■──\n",
      "     └───┘               \n",
      "c: 3/════════════════════\n",
      "                         \n",
      "1.992\n",
      "4.0\n",
      "3.904000000000002\n"
     ]
    },
    {
     "data": {
      "text/plain": [
       "5.912000000000003"
      ]
     },
     "execution_count": 104,
     "metadata": {},
     "output_type": "execute_result"
    }
   ],
   "source": [
    "get_EV(state(), 1000)"
   ]
  }
 ],
 "metadata": {
  "kernelspec": {
   "display_name": "Python [conda env:qiskit_env] *",
   "language": "python",
   "name": "conda-env-qiskit_env-py"
  },
  "language_info": {
   "codemirror_mode": {
    "name": "ipython",
    "version": 3
   },
   "file_extension": ".py",
   "mimetype": "text/x-python",
   "name": "python",
   "nbconvert_exporter": "python",
   "pygments_lexer": "ipython3",
   "version": "3.10.4"
  }
 },
 "nbformat": 4,
 "nbformat_minor": 5
}
